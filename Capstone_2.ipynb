{
 "cells": [
  {
   "cell_type": "markdown",
   "metadata": {},
   "source": [
    "https://www.kaggle.com/marklvl/bike-sharing-dataset/downloads/bike-sharing-dataset.zip/1"
   ]
  },
  {
   "cell_type": "markdown",
   "metadata": {},
   "source": [
    "https://www.kaggle.com/marklvl/bike-sharing-dataset/"
   ]
  },
  {
   "cell_type": "code",
   "execution_count": 1,
   "metadata": {},
   "outputs": [
    {
     "data": {
      "text/html": [
       "<div>\n",
       "<style scoped>\n",
       "    .dataframe tbody tr th:only-of-type {\n",
       "        vertical-align: middle;\n",
       "    }\n",
       "\n",
       "    .dataframe tbody tr th {\n",
       "        vertical-align: top;\n",
       "    }\n",
       "\n",
       "    .dataframe thead th {\n",
       "        text-align: right;\n",
       "    }\n",
       "</style>\n",
       "<table border=\"1\" class=\"dataframe\">\n",
       "  <thead>\n",
       "    <tr style=\"text-align: right;\">\n",
       "      <th></th>\n",
       "      <th>instant</th>\n",
       "      <th>dteday</th>\n",
       "      <th>season</th>\n",
       "      <th>yr</th>\n",
       "      <th>mnth</th>\n",
       "      <th>hr</th>\n",
       "      <th>holiday</th>\n",
       "      <th>weekday</th>\n",
       "      <th>workingday</th>\n",
       "      <th>weathersit</th>\n",
       "      <th>temp</th>\n",
       "      <th>atemp</th>\n",
       "      <th>hum</th>\n",
       "      <th>windspeed</th>\n",
       "      <th>casual</th>\n",
       "      <th>registered</th>\n",
       "      <th>cnt</th>\n",
       "    </tr>\n",
       "  </thead>\n",
       "  <tbody>\n",
       "    <tr>\n",
       "      <th>0</th>\n",
       "      <td>1</td>\n",
       "      <td>2011-01-01</td>\n",
       "      <td>1</td>\n",
       "      <td>0</td>\n",
       "      <td>1</td>\n",
       "      <td>0</td>\n",
       "      <td>0</td>\n",
       "      <td>6</td>\n",
       "      <td>0</td>\n",
       "      <td>1</td>\n",
       "      <td>0.24</td>\n",
       "      <td>0.2879</td>\n",
       "      <td>0.81</td>\n",
       "      <td>0.0</td>\n",
       "      <td>3</td>\n",
       "      <td>13</td>\n",
       "      <td>16</td>\n",
       "    </tr>\n",
       "    <tr>\n",
       "      <th>1</th>\n",
       "      <td>2</td>\n",
       "      <td>2011-01-01</td>\n",
       "      <td>1</td>\n",
       "      <td>0</td>\n",
       "      <td>1</td>\n",
       "      <td>1</td>\n",
       "      <td>0</td>\n",
       "      <td>6</td>\n",
       "      <td>0</td>\n",
       "      <td>1</td>\n",
       "      <td>0.22</td>\n",
       "      <td>0.2727</td>\n",
       "      <td>0.80</td>\n",
       "      <td>0.0</td>\n",
       "      <td>8</td>\n",
       "      <td>32</td>\n",
       "      <td>40</td>\n",
       "    </tr>\n",
       "    <tr>\n",
       "      <th>2</th>\n",
       "      <td>3</td>\n",
       "      <td>2011-01-01</td>\n",
       "      <td>1</td>\n",
       "      <td>0</td>\n",
       "      <td>1</td>\n",
       "      <td>2</td>\n",
       "      <td>0</td>\n",
       "      <td>6</td>\n",
       "      <td>0</td>\n",
       "      <td>1</td>\n",
       "      <td>0.22</td>\n",
       "      <td>0.2727</td>\n",
       "      <td>0.80</td>\n",
       "      <td>0.0</td>\n",
       "      <td>5</td>\n",
       "      <td>27</td>\n",
       "      <td>32</td>\n",
       "    </tr>\n",
       "    <tr>\n",
       "      <th>3</th>\n",
       "      <td>4</td>\n",
       "      <td>2011-01-01</td>\n",
       "      <td>1</td>\n",
       "      <td>0</td>\n",
       "      <td>1</td>\n",
       "      <td>3</td>\n",
       "      <td>0</td>\n",
       "      <td>6</td>\n",
       "      <td>0</td>\n",
       "      <td>1</td>\n",
       "      <td>0.24</td>\n",
       "      <td>0.2879</td>\n",
       "      <td>0.75</td>\n",
       "      <td>0.0</td>\n",
       "      <td>3</td>\n",
       "      <td>10</td>\n",
       "      <td>13</td>\n",
       "    </tr>\n",
       "    <tr>\n",
       "      <th>4</th>\n",
       "      <td>5</td>\n",
       "      <td>2011-01-01</td>\n",
       "      <td>1</td>\n",
       "      <td>0</td>\n",
       "      <td>1</td>\n",
       "      <td>4</td>\n",
       "      <td>0</td>\n",
       "      <td>6</td>\n",
       "      <td>0</td>\n",
       "      <td>1</td>\n",
       "      <td>0.24</td>\n",
       "      <td>0.2879</td>\n",
       "      <td>0.75</td>\n",
       "      <td>0.0</td>\n",
       "      <td>0</td>\n",
       "      <td>1</td>\n",
       "      <td>1</td>\n",
       "    </tr>\n",
       "  </tbody>\n",
       "</table>\n",
       "</div>"
      ],
      "text/plain": [
       "   instant      dteday  season  yr  mnth  hr  holiday  weekday  workingday  \\\n",
       "0        1  2011-01-01       1   0     1   0        0        6           0   \n",
       "1        2  2011-01-01       1   0     1   1        0        6           0   \n",
       "2        3  2011-01-01       1   0     1   2        0        6           0   \n",
       "3        4  2011-01-01       1   0     1   3        0        6           0   \n",
       "4        5  2011-01-01       1   0     1   4        0        6           0   \n",
       "\n",
       "   weathersit  temp   atemp   hum  windspeed  casual  registered  cnt  \n",
       "0           1  0.24  0.2879  0.81        0.0       3          13   16  \n",
       "1           1  0.22  0.2727  0.80        0.0       8          32   40  \n",
       "2           1  0.22  0.2727  0.80        0.0       5          27   32  \n",
       "3           1  0.24  0.2879  0.75        0.0       3          10   13  \n",
       "4           1  0.24  0.2879  0.75        0.0       0           1    1  "
      ]
     },
     "execution_count": 1,
     "metadata": {},
     "output_type": "execute_result"
    }
   ],
   "source": [
    "import pandas as pd\n",
    "import matplotlib.pyplot as plt\n",
    "df=pd.read_csv(r\"C:\\users\\musht\\data\\hour.csv\",engine='python',encoding='ascii',header=0)\n",
    "df.head()"
   ]
  },
  {
   "cell_type": "code",
   "execution_count": 2,
   "metadata": {},
   "outputs": [
    {
     "data": {
      "text/html": [
       "<div>\n",
       "<style scoped>\n",
       "    .dataframe tbody tr th:only-of-type {\n",
       "        vertical-align: middle;\n",
       "    }\n",
       "\n",
       "    .dataframe tbody tr th {\n",
       "        vertical-align: top;\n",
       "    }\n",
       "\n",
       "    .dataframe thead th {\n",
       "        text-align: right;\n",
       "    }\n",
       "</style>\n",
       "<table border=\"1\" class=\"dataframe\">\n",
       "  <thead>\n",
       "    <tr style=\"text-align: right;\">\n",
       "      <th></th>\n",
       "      <th>instant</th>\n",
       "      <th>season</th>\n",
       "      <th>yr</th>\n",
       "      <th>mnth</th>\n",
       "      <th>hr</th>\n",
       "      <th>holiday</th>\n",
       "      <th>weekday</th>\n",
       "      <th>workingday</th>\n",
       "      <th>weathersit</th>\n",
       "      <th>temp</th>\n",
       "      <th>atemp</th>\n",
       "      <th>hum</th>\n",
       "      <th>windspeed</th>\n",
       "      <th>casual</th>\n",
       "      <th>registered</th>\n",
       "      <th>cnt</th>\n",
       "    </tr>\n",
       "  </thead>\n",
       "  <tbody>\n",
       "    <tr>\n",
       "      <th>count</th>\n",
       "      <td>17379.0000</td>\n",
       "      <td>17379.000000</td>\n",
       "      <td>17379.000000</td>\n",
       "      <td>17379.000000</td>\n",
       "      <td>17379.000000</td>\n",
       "      <td>17379.000000</td>\n",
       "      <td>17379.000000</td>\n",
       "      <td>17379.000000</td>\n",
       "      <td>17379.000000</td>\n",
       "      <td>17379.000000</td>\n",
       "      <td>17379.000000</td>\n",
       "      <td>17379.000000</td>\n",
       "      <td>17379.000000</td>\n",
       "      <td>17379.000000</td>\n",
       "      <td>17379.000000</td>\n",
       "      <td>17379.000000</td>\n",
       "    </tr>\n",
       "    <tr>\n",
       "      <th>mean</th>\n",
       "      <td>8690.0000</td>\n",
       "      <td>2.501640</td>\n",
       "      <td>0.502561</td>\n",
       "      <td>6.537775</td>\n",
       "      <td>11.546752</td>\n",
       "      <td>0.028770</td>\n",
       "      <td>3.003683</td>\n",
       "      <td>0.682721</td>\n",
       "      <td>1.425283</td>\n",
       "      <td>0.496987</td>\n",
       "      <td>0.475775</td>\n",
       "      <td>0.627229</td>\n",
       "      <td>0.190098</td>\n",
       "      <td>35.676218</td>\n",
       "      <td>153.786869</td>\n",
       "      <td>189.463088</td>\n",
       "    </tr>\n",
       "    <tr>\n",
       "      <th>std</th>\n",
       "      <td>5017.0295</td>\n",
       "      <td>1.106918</td>\n",
       "      <td>0.500008</td>\n",
       "      <td>3.438776</td>\n",
       "      <td>6.914405</td>\n",
       "      <td>0.167165</td>\n",
       "      <td>2.005771</td>\n",
       "      <td>0.465431</td>\n",
       "      <td>0.639357</td>\n",
       "      <td>0.192556</td>\n",
       "      <td>0.171850</td>\n",
       "      <td>0.192930</td>\n",
       "      <td>0.122340</td>\n",
       "      <td>49.305030</td>\n",
       "      <td>151.357286</td>\n",
       "      <td>181.387599</td>\n",
       "    </tr>\n",
       "    <tr>\n",
       "      <th>min</th>\n",
       "      <td>1.0000</td>\n",
       "      <td>1.000000</td>\n",
       "      <td>0.000000</td>\n",
       "      <td>1.000000</td>\n",
       "      <td>0.000000</td>\n",
       "      <td>0.000000</td>\n",
       "      <td>0.000000</td>\n",
       "      <td>0.000000</td>\n",
       "      <td>1.000000</td>\n",
       "      <td>0.020000</td>\n",
       "      <td>0.000000</td>\n",
       "      <td>0.000000</td>\n",
       "      <td>0.000000</td>\n",
       "      <td>0.000000</td>\n",
       "      <td>0.000000</td>\n",
       "      <td>1.000000</td>\n",
       "    </tr>\n",
       "    <tr>\n",
       "      <th>25%</th>\n",
       "      <td>4345.5000</td>\n",
       "      <td>2.000000</td>\n",
       "      <td>0.000000</td>\n",
       "      <td>4.000000</td>\n",
       "      <td>6.000000</td>\n",
       "      <td>0.000000</td>\n",
       "      <td>1.000000</td>\n",
       "      <td>0.000000</td>\n",
       "      <td>1.000000</td>\n",
       "      <td>0.340000</td>\n",
       "      <td>0.333300</td>\n",
       "      <td>0.480000</td>\n",
       "      <td>0.104500</td>\n",
       "      <td>4.000000</td>\n",
       "      <td>34.000000</td>\n",
       "      <td>40.000000</td>\n",
       "    </tr>\n",
       "    <tr>\n",
       "      <th>50%</th>\n",
       "      <td>8690.0000</td>\n",
       "      <td>3.000000</td>\n",
       "      <td>1.000000</td>\n",
       "      <td>7.000000</td>\n",
       "      <td>12.000000</td>\n",
       "      <td>0.000000</td>\n",
       "      <td>3.000000</td>\n",
       "      <td>1.000000</td>\n",
       "      <td>1.000000</td>\n",
       "      <td>0.500000</td>\n",
       "      <td>0.484800</td>\n",
       "      <td>0.630000</td>\n",
       "      <td>0.194000</td>\n",
       "      <td>17.000000</td>\n",
       "      <td>115.000000</td>\n",
       "      <td>142.000000</td>\n",
       "    </tr>\n",
       "    <tr>\n",
       "      <th>75%</th>\n",
       "      <td>13034.5000</td>\n",
       "      <td>3.000000</td>\n",
       "      <td>1.000000</td>\n",
       "      <td>10.000000</td>\n",
       "      <td>18.000000</td>\n",
       "      <td>0.000000</td>\n",
       "      <td>5.000000</td>\n",
       "      <td>1.000000</td>\n",
       "      <td>2.000000</td>\n",
       "      <td>0.660000</td>\n",
       "      <td>0.621200</td>\n",
       "      <td>0.780000</td>\n",
       "      <td>0.253700</td>\n",
       "      <td>48.000000</td>\n",
       "      <td>220.000000</td>\n",
       "      <td>281.000000</td>\n",
       "    </tr>\n",
       "    <tr>\n",
       "      <th>max</th>\n",
       "      <td>17379.0000</td>\n",
       "      <td>4.000000</td>\n",
       "      <td>1.000000</td>\n",
       "      <td>12.000000</td>\n",
       "      <td>23.000000</td>\n",
       "      <td>1.000000</td>\n",
       "      <td>6.000000</td>\n",
       "      <td>1.000000</td>\n",
       "      <td>4.000000</td>\n",
       "      <td>1.000000</td>\n",
       "      <td>1.000000</td>\n",
       "      <td>1.000000</td>\n",
       "      <td>0.850700</td>\n",
       "      <td>367.000000</td>\n",
       "      <td>886.000000</td>\n",
       "      <td>977.000000</td>\n",
       "    </tr>\n",
       "  </tbody>\n",
       "</table>\n",
       "</div>"
      ],
      "text/plain": [
       "          instant        season            yr          mnth            hr  \\\n",
       "count  17379.0000  17379.000000  17379.000000  17379.000000  17379.000000   \n",
       "mean    8690.0000      2.501640      0.502561      6.537775     11.546752   \n",
       "std     5017.0295      1.106918      0.500008      3.438776      6.914405   \n",
       "min        1.0000      1.000000      0.000000      1.000000      0.000000   \n",
       "25%     4345.5000      2.000000      0.000000      4.000000      6.000000   \n",
       "50%     8690.0000      3.000000      1.000000      7.000000     12.000000   \n",
       "75%    13034.5000      3.000000      1.000000     10.000000     18.000000   \n",
       "max    17379.0000      4.000000      1.000000     12.000000     23.000000   \n",
       "\n",
       "            holiday       weekday    workingday    weathersit          temp  \\\n",
       "count  17379.000000  17379.000000  17379.000000  17379.000000  17379.000000   \n",
       "mean       0.028770      3.003683      0.682721      1.425283      0.496987   \n",
       "std        0.167165      2.005771      0.465431      0.639357      0.192556   \n",
       "min        0.000000      0.000000      0.000000      1.000000      0.020000   \n",
       "25%        0.000000      1.000000      0.000000      1.000000      0.340000   \n",
       "50%        0.000000      3.000000      1.000000      1.000000      0.500000   \n",
       "75%        0.000000      5.000000      1.000000      2.000000      0.660000   \n",
       "max        1.000000      6.000000      1.000000      4.000000      1.000000   \n",
       "\n",
       "              atemp           hum     windspeed        casual    registered  \\\n",
       "count  17379.000000  17379.000000  17379.000000  17379.000000  17379.000000   \n",
       "mean       0.475775      0.627229      0.190098     35.676218    153.786869   \n",
       "std        0.171850      0.192930      0.122340     49.305030    151.357286   \n",
       "min        0.000000      0.000000      0.000000      0.000000      0.000000   \n",
       "25%        0.333300      0.480000      0.104500      4.000000     34.000000   \n",
       "50%        0.484800      0.630000      0.194000     17.000000    115.000000   \n",
       "75%        0.621200      0.780000      0.253700     48.000000    220.000000   \n",
       "max        1.000000      1.000000      0.850700    367.000000    886.000000   \n",
       "\n",
       "                cnt  \n",
       "count  17379.000000  \n",
       "mean     189.463088  \n",
       "std      181.387599  \n",
       "min        1.000000  \n",
       "25%       40.000000  \n",
       "50%      142.000000  \n",
       "75%      281.000000  \n",
       "max      977.000000  "
      ]
     },
     "execution_count": 2,
     "metadata": {},
     "output_type": "execute_result"
    }
   ],
   "source": [
    "df.describe()"
   ]
  },
  {
   "cell_type": "code",
   "execution_count": 3,
   "metadata": {},
   "outputs": [
    {
     "name": "stdout",
     "output_type": "stream",
     "text": [
      "<class 'pandas.core.frame.DataFrame'>\n",
      "RangeIndex: 17379 entries, 0 to 17378\n",
      "Data columns (total 17 columns):\n",
      "instant       17379 non-null int64\n",
      "dteday        17379 non-null object\n",
      "season        17379 non-null int64\n",
      "yr            17379 non-null int64\n",
      "mnth          17379 non-null int64\n",
      "hr            17379 non-null int64\n",
      "holiday       17379 non-null int64\n",
      "weekday       17379 non-null int64\n",
      "workingday    17379 non-null int64\n",
      "weathersit    17379 non-null int64\n",
      "temp          17379 non-null float64\n",
      "atemp         17379 non-null float64\n",
      "hum           17379 non-null float64\n",
      "windspeed     17379 non-null float64\n",
      "casual        17379 non-null int64\n",
      "registered    17379 non-null int64\n",
      "cnt           17379 non-null int64\n",
      "dtypes: float64(4), int64(12), object(1)\n",
      "memory usage: 2.3+ MB\n"
     ]
    }
   ],
   "source": [
    "df.info()"
   ]
  },
  {
   "cell_type": "code",
   "execution_count": 4,
   "metadata": {},
   "outputs": [
    {
     "data": {
      "text/plain": [
       "instant       0\n",
       "dteday        0\n",
       "season        0\n",
       "yr            0\n",
       "mnth          0\n",
       "hr            0\n",
       "holiday       0\n",
       "weekday       0\n",
       "workingday    0\n",
       "weathersit    0\n",
       "temp          0\n",
       "atemp         0\n",
       "hum           0\n",
       "windspeed     0\n",
       "casual        0\n",
       "registered    0\n",
       "cnt           0\n",
       "dtype: int64"
      ]
     },
     "execution_count": 4,
     "metadata": {},
     "output_type": "execute_result"
    }
   ],
   "source": [
    "#check missing values\n",
    "df.isnull().sum()"
   ]
  },
  {
   "cell_type": "code",
   "execution_count": null,
   "metadata": {},
   "outputs": [],
   "source": [
    "\n"
   ]
  },
  {
   "cell_type": "code",
   "execution_count": 5,
   "metadata": {},
   "outputs": [
    {
     "data": {
      "text/plain": [
       "count    17379.000000\n",
       "mean       189.463088\n",
       "std        181.387599\n",
       "min          1.000000\n",
       "25%         40.000000\n",
       "50%        142.000000\n",
       "75%        281.000000\n",
       "max        977.000000\n",
       "Name: cnt, dtype: float64"
      ]
     },
     "execution_count": 5,
     "metadata": {},
     "output_type": "execute_result"
    }
   ],
   "source": [
    "df['cnt'].describe()"
   ]
  },
  {
   "cell_type": "code",
   "execution_count": 91,
   "metadata": {},
   "outputs": [
    {
     "data": {
      "text/plain": [
       "array([651, 644, 712, 676, 734, 662, 782, 749, 713, 746, 651, 686, 690,\n",
       "       679, 685, 648, 721, 801, 750, 801, 729, 779, 649, 810, 801, 662,\n",
       "       957, 830, 686, 657, 664, 684, 644, 658, 654, 703, 681, 729, 757,\n",
       "       800, 684, 744, 759, 822, 698, 655, 643, 646, 692, 744, 704, 656,\n",
       "       738, 671, 678, 678, 660, 658, 681, 712, 676, 673, 781, 775, 677,\n",
       "       748, 776, 700, 819, 668, 649, 691, 654, 732, 709, 664, 702, 654,\n",
       "       653, 683, 664, 681, 743, 666, 729, 813, 704, 706, 643, 769, 680,\n",
       "       717, 710, 705, 732, 770, 779, 659, 678, 733, 650, 873, 846, 852,\n",
       "       868, 745, 812, 669, 704, 730, 672, 645, 785, 785, 719, 692, 798,\n",
       "       752, 653, 781, 710, 671, 839, 796, 693, 827, 785, 694, 668, 679,\n",
       "       647, 702, 644, 684, 686, 678, 644, 662, 665, 834, 822, 645, 710,\n",
       "       850, 790, 668, 724, 782, 681, 869, 813, 700, 793, 723, 651, 800,\n",
       "       831, 681, 653, 713, 857, 744, 671, 719, 867, 823, 653, 823, 693,\n",
       "       723, 673, 811, 795, 643, 691, 672, 646, 833, 791, 656, 900, 824,\n",
       "       687, 843, 804, 643, 705, 697, 747, 730, 646, 722, 689, 849, 872,\n",
       "       649, 872, 819, 674, 830, 814, 702, 795, 825, 713, 835, 667, 755,\n",
       "       794, 661, 770, 772, 679, 643, 657, 771, 777, 691, 715, 738, 847,\n",
       "       741, 743, 869, 877, 788, 913, 891, 698, 729, 738, 688, 676, 699,\n",
       "       751, 827, 812, 665, 760, 820, 857, 681, 837, 891, 652, 739, 865,\n",
       "       767, 668, 741, 671, 858, 843, 705, 868, 814, 737, 858, 862, 686,\n",
       "       698, 810, 811, 730, 673, 818, 812, 812, 854, 682, 851, 848, 649,\n",
       "       682, 897, 832, 677, 668, 791, 669, 654, 644, 655, 893, 815, 723,\n",
       "       878, 740, 783, 683, 707, 820, 941, 744, 812, 736, 699, 845, 834,\n",
       "       693, 864, 818, 808, 870, 812, 643, 754, 844, 853, 690, 856, 839,\n",
       "       725, 863, 839, 662, 646, 808, 835, 719, 772, 792, 694, 668, 757,\n",
       "       729, 647, 696, 701, 671, 730, 871, 968, 750, 970, 877, 770, 925,\n",
       "       977, 758, 884, 852, 674, 766, 894, 808, 706, 704, 715, 654, 783,\n",
       "       729, 656, 694, 683, 842, 774, 672, 797, 886, 892, 790, 976, 900,\n",
       "       757, 846, 805, 688, 707, 654, 750, 680, 646, 776, 702, 666, 691,\n",
       "       723, 750, 898, 853, 805, 967, 822, 838, 953, 884, 794, 905, 899,\n",
       "       705, 808, 667, 663, 682, 686, 750, 727, 722, 712, 680, 649, 648,\n",
       "       784, 856, 715, 687, 809, 917, 810, 738, 901, 887, 785, 900, 761,\n",
       "       647, 743, 710, 659, 713, 806, 784, 839, 948, 844, 798, 827, 692,\n",
       "       743, 745, 837, 670, 737, 766, 835, 943, 838, 817, 888, 884, 834,\n",
       "       890, 788, 703, 714, 711, 711, 691, 731, 675, 728, 922, 786, 761,\n",
       "       938, 826, 801, 963, 858, 779, 886, 809, 734, 817, 665, 668, 760,\n",
       "       750, 711, 723, 680, 689, 678, 687, 648, 668, 693, 654, 651, 686,\n",
       "       654, 724, 653, 691, 646, 711, 663, 665, 692, 679, 729, 731, 708,\n",
       "       692, 721, 743, 731, 759, 659, 724, 688, 679, 662, 678])"
      ]
     },
     "execution_count": 91,
     "metadata": {},
     "output_type": "execute_result"
    }
   ],
   "source": [
    "# check for outlier\n",
    "#identify outlier use IQR Method\n",
    "#for PTRATIO\n",
    "import numpy as np\n",
    "\n",
    "def outliers_iqr(ys):\n",
    "    hold_outliers=[]\n",
    "    quartile_1, quartile_3 = np.percentile(ys, [25, 75])\n",
    "    iqr = quartile_3 - quartile_1\n",
    "    lower_bound = quartile_1 - (iqr * 1.5)\n",
    "    upper_bound = quartile_3 + (iqr * 1.5)\n",
    "    hold=[x for x in ys if x> upper_bound or x <lower_bound]\n",
    "    #return np.where((ys > upper_bound) | (ys < lower_bound))\n",
    "    return hold\n",
    "out=outliers_iqr(df['cnt'])\n",
    "np.array(out)"
   ]
  },
  {
   "cell_type": "markdown",
   "metadata": {},
   "source": [
    "Although 505 bike riders seem outliers based on the inter-quartile range, which constitutes 3% of total instances are not considered outlier because number of bike riders are directly proportional to weather and may be other factors;"
   ]
  },
  {
   "cell_type": "code",
   "execution_count": null,
   "metadata": {},
   "outputs": [],
   "source": []
  },
  {
   "cell_type": "code",
   "execution_count": 7,
   "metadata": {},
   "outputs": [],
   "source": [
    "# let's change the name of season instead of 1,2,3,4 - change season to SEASON\n",
    "\n",
    "df['SEASON']=df['season'].apply(lambda x: 'spring' if x==1 else 'summer'  if  x==2 else 'fall' if x==3 else 'winter')"
   ]
  },
  {
   "cell_type": "code",
   "execution_count": 8,
   "metadata": {},
   "outputs": [
    {
     "data": {
      "text/html": [
       "<div>\n",
       "<style scoped>\n",
       "    .dataframe tbody tr th:only-of-type {\n",
       "        vertical-align: middle;\n",
       "    }\n",
       "\n",
       "    .dataframe tbody tr th {\n",
       "        vertical-align: top;\n",
       "    }\n",
       "\n",
       "    .dataframe thead th {\n",
       "        text-align: right;\n",
       "    }\n",
       "</style>\n",
       "<table border=\"1\" class=\"dataframe\">\n",
       "  <thead>\n",
       "    <tr style=\"text-align: right;\">\n",
       "      <th></th>\n",
       "      <th>instant</th>\n",
       "      <th>dteday</th>\n",
       "      <th>season</th>\n",
       "      <th>yr</th>\n",
       "      <th>mnth</th>\n",
       "      <th>hr</th>\n",
       "      <th>holiday</th>\n",
       "      <th>weekday</th>\n",
       "      <th>workingday</th>\n",
       "      <th>weathersit</th>\n",
       "      <th>temp</th>\n",
       "      <th>atemp</th>\n",
       "      <th>hum</th>\n",
       "      <th>windspeed</th>\n",
       "      <th>casual</th>\n",
       "      <th>registered</th>\n",
       "      <th>cnt</th>\n",
       "    </tr>\n",
       "    <tr>\n",
       "      <th>SEASON</th>\n",
       "      <th></th>\n",
       "      <th></th>\n",
       "      <th></th>\n",
       "      <th></th>\n",
       "      <th></th>\n",
       "      <th></th>\n",
       "      <th></th>\n",
       "      <th></th>\n",
       "      <th></th>\n",
       "      <th></th>\n",
       "      <th></th>\n",
       "      <th></th>\n",
       "      <th></th>\n",
       "      <th></th>\n",
       "      <th></th>\n",
       "      <th></th>\n",
       "      <th></th>\n",
       "    </tr>\n",
       "  </thead>\n",
       "  <tbody>\n",
       "    <tr>\n",
       "      <th>fall</th>\n",
       "      <td>4496</td>\n",
       "      <td>4496</td>\n",
       "      <td>4496</td>\n",
       "      <td>4496</td>\n",
       "      <td>4496</td>\n",
       "      <td>4496</td>\n",
       "      <td>4496</td>\n",
       "      <td>4496</td>\n",
       "      <td>4496</td>\n",
       "      <td>4496</td>\n",
       "      <td>4496</td>\n",
       "      <td>4496</td>\n",
       "      <td>4496</td>\n",
       "      <td>4496</td>\n",
       "      <td>4496</td>\n",
       "      <td>4496</td>\n",
       "      <td>4496</td>\n",
       "    </tr>\n",
       "    <tr>\n",
       "      <th>spring</th>\n",
       "      <td>4242</td>\n",
       "      <td>4242</td>\n",
       "      <td>4242</td>\n",
       "      <td>4242</td>\n",
       "      <td>4242</td>\n",
       "      <td>4242</td>\n",
       "      <td>4242</td>\n",
       "      <td>4242</td>\n",
       "      <td>4242</td>\n",
       "      <td>4242</td>\n",
       "      <td>4242</td>\n",
       "      <td>4242</td>\n",
       "      <td>4242</td>\n",
       "      <td>4242</td>\n",
       "      <td>4242</td>\n",
       "      <td>4242</td>\n",
       "      <td>4242</td>\n",
       "    </tr>\n",
       "    <tr>\n",
       "      <th>summer</th>\n",
       "      <td>4409</td>\n",
       "      <td>4409</td>\n",
       "      <td>4409</td>\n",
       "      <td>4409</td>\n",
       "      <td>4409</td>\n",
       "      <td>4409</td>\n",
       "      <td>4409</td>\n",
       "      <td>4409</td>\n",
       "      <td>4409</td>\n",
       "      <td>4409</td>\n",
       "      <td>4409</td>\n",
       "      <td>4409</td>\n",
       "      <td>4409</td>\n",
       "      <td>4409</td>\n",
       "      <td>4409</td>\n",
       "      <td>4409</td>\n",
       "      <td>4409</td>\n",
       "    </tr>\n",
       "    <tr>\n",
       "      <th>winter</th>\n",
       "      <td>4232</td>\n",
       "      <td>4232</td>\n",
       "      <td>4232</td>\n",
       "      <td>4232</td>\n",
       "      <td>4232</td>\n",
       "      <td>4232</td>\n",
       "      <td>4232</td>\n",
       "      <td>4232</td>\n",
       "      <td>4232</td>\n",
       "      <td>4232</td>\n",
       "      <td>4232</td>\n",
       "      <td>4232</td>\n",
       "      <td>4232</td>\n",
       "      <td>4232</td>\n",
       "      <td>4232</td>\n",
       "      <td>4232</td>\n",
       "      <td>4232</td>\n",
       "    </tr>\n",
       "  </tbody>\n",
       "</table>\n",
       "</div>"
      ],
      "text/plain": [
       "        instant  dteday  season    yr  mnth    hr  holiday  weekday  \\\n",
       "SEASON                                                                \n",
       "fall       4496    4496    4496  4496  4496  4496     4496     4496   \n",
       "spring     4242    4242    4242  4242  4242  4242     4242     4242   \n",
       "summer     4409    4409    4409  4409  4409  4409     4409     4409   \n",
       "winter     4232    4232    4232  4232  4232  4232     4232     4232   \n",
       "\n",
       "        workingday  weathersit  temp  atemp   hum  windspeed  casual  \\\n",
       "SEASON                                                                 \n",
       "fall          4496        4496  4496   4496  4496       4496    4496   \n",
       "spring        4242        4242  4242   4242  4242       4242    4242   \n",
       "summer        4409        4409  4409   4409  4409       4409    4409   \n",
       "winter        4232        4232  4232   4232  4232       4232    4232   \n",
       "\n",
       "        registered   cnt  \n",
       "SEASON                    \n",
       "fall          4496  4496  \n",
       "spring        4242  4242  \n",
       "summer        4409  4409  \n",
       "winter        4232  4232  "
      ]
     },
     "execution_count": 8,
     "metadata": {},
     "output_type": "execute_result"
    }
   ],
   "source": [
    "df.groupby('SEASON').count()"
   ]
  },
  {
   "cell_type": "code",
   "execution_count": 9,
   "metadata": {},
   "outputs": [
    {
     "data": {
      "text/plain": [
       "<matplotlib.axes._subplots.AxesSubplot at 0x25db6eb1550>"
      ]
     },
     "execution_count": 9,
     "metadata": {},
     "output_type": "execute_result"
    },
    {
     "data": {
      "image/png": "[encoded data removed]",
      "text/plain": [
       "<Figure size 432x288 with 1 Axes>"
      ]
     },
     "metadata": {
      "needs_background": "light"
     },
     "output_type": "display_data"
    }
   ],
   "source": [
    "df.boxplot(by='SEASON', \n",
    "                       column=['cnt'], \n",
    "                       grid=False)"
   ]
  },
  {
   "cell_type": "code",
   "execution_count": 10,
   "metadata": {},
   "outputs": [
    {
     "data": {
      "text/html": [
       "<div>\n",
       "<style scoped>\n",
       "    .dataframe tbody tr th:only-of-type {\n",
       "        vertical-align: middle;\n",
       "    }\n",
       "\n",
       "    .dataframe tbody tr th {\n",
       "        vertical-align: top;\n",
       "    }\n",
       "\n",
       "    .dataframe thead th {\n",
       "        text-align: right;\n",
       "    }\n",
       "</style>\n",
       "<table border=\"1\" class=\"dataframe\">\n",
       "  <thead>\n",
       "    <tr style=\"text-align: right;\">\n",
       "      <th></th>\n",
       "      <th>instant</th>\n",
       "      <th>dteday</th>\n",
       "      <th>season</th>\n",
       "      <th>yr</th>\n",
       "      <th>mnth</th>\n",
       "      <th>hr</th>\n",
       "      <th>holiday</th>\n",
       "      <th>weekday</th>\n",
       "      <th>workingday</th>\n",
       "      <th>weathersit</th>\n",
       "      <th>temp</th>\n",
       "      <th>atemp</th>\n",
       "      <th>hum</th>\n",
       "      <th>windspeed</th>\n",
       "      <th>casual</th>\n",
       "      <th>registered</th>\n",
       "      <th>cnt</th>\n",
       "    </tr>\n",
       "    <tr>\n",
       "      <th>SEASON</th>\n",
       "      <th></th>\n",
       "      <th></th>\n",
       "      <th></th>\n",
       "      <th></th>\n",
       "      <th></th>\n",
       "      <th></th>\n",
       "      <th></th>\n",
       "      <th></th>\n",
       "      <th></th>\n",
       "      <th></th>\n",
       "      <th></th>\n",
       "      <th></th>\n",
       "      <th></th>\n",
       "      <th></th>\n",
       "      <th></th>\n",
       "      <th></th>\n",
       "      <th></th>\n",
       "    </tr>\n",
       "  </thead>\n",
       "  <tbody>\n",
       "    <tr>\n",
       "      <th>fall</th>\n",
       "      <td>4011</td>\n",
       "      <td>2011-06-21</td>\n",
       "      <td>3</td>\n",
       "      <td>0</td>\n",
       "      <td>6</td>\n",
       "      <td>0</td>\n",
       "      <td>0</td>\n",
       "      <td>2</td>\n",
       "      <td>1</td>\n",
       "      <td>1</td>\n",
       "      <td>0.62</td>\n",
       "      <td>0.5909</td>\n",
       "      <td>0.78</td>\n",
       "      <td>0.1642</td>\n",
       "      <td>10</td>\n",
       "      <td>23</td>\n",
       "      <td>33</td>\n",
       "    </tr>\n",
       "    <tr>\n",
       "      <th>spring</th>\n",
       "      <td>1</td>\n",
       "      <td>2011-01-01</td>\n",
       "      <td>1</td>\n",
       "      <td>0</td>\n",
       "      <td>1</td>\n",
       "      <td>0</td>\n",
       "      <td>0</td>\n",
       "      <td>6</td>\n",
       "      <td>0</td>\n",
       "      <td>1</td>\n",
       "      <td>0.24</td>\n",
       "      <td>0.2879</td>\n",
       "      <td>0.81</td>\n",
       "      <td>0.0000</td>\n",
       "      <td>3</td>\n",
       "      <td>13</td>\n",
       "      <td>16</td>\n",
       "    </tr>\n",
       "    <tr>\n",
       "      <th>summer</th>\n",
       "      <td>1808</td>\n",
       "      <td>2011-03-21</td>\n",
       "      <td>2</td>\n",
       "      <td>0</td>\n",
       "      <td>3</td>\n",
       "      <td>0</td>\n",
       "      <td>0</td>\n",
       "      <td>1</td>\n",
       "      <td>1</td>\n",
       "      <td>3</td>\n",
       "      <td>0.34</td>\n",
       "      <td>0.3030</td>\n",
       "      <td>0.66</td>\n",
       "      <td>0.3881</td>\n",
       "      <td>2</td>\n",
       "      <td>11</td>\n",
       "      <td>13</td>\n",
       "    </tr>\n",
       "    <tr>\n",
       "      <th>winter</th>\n",
       "      <td>6251</td>\n",
       "      <td>2011-09-23</td>\n",
       "      <td>4</td>\n",
       "      <td>0</td>\n",
       "      <td>9</td>\n",
       "      <td>0</td>\n",
       "      <td>0</td>\n",
       "      <td>5</td>\n",
       "      <td>1</td>\n",
       "      <td>2</td>\n",
       "      <td>0.62</td>\n",
       "      <td>0.5455</td>\n",
       "      <td>0.94</td>\n",
       "      <td>0.0896</td>\n",
       "      <td>11</td>\n",
       "      <td>41</td>\n",
       "      <td>52</td>\n",
       "    </tr>\n",
       "  </tbody>\n",
       "</table>\n",
       "</div>"
      ],
      "text/plain": [
       "        instant      dteday  season  yr  mnth  hr  holiday  weekday  \\\n",
       "SEASON                                                                \n",
       "fall       4011  2011-06-21       3   0     6   0        0        2   \n",
       "spring        1  2011-01-01       1   0     1   0        0        6   \n",
       "summer     1808  2011-03-21       2   0     3   0        0        1   \n",
       "winter     6251  2011-09-23       4   0     9   0        0        5   \n",
       "\n",
       "        workingday  weathersit  temp   atemp   hum  windspeed  casual  \\\n",
       "SEASON                                                                  \n",
       "fall             1           1  0.62  0.5909  0.78     0.1642      10   \n",
       "spring           0           1  0.24  0.2879  0.81     0.0000       3   \n",
       "summer           1           3  0.34  0.3030  0.66     0.3881       2   \n",
       "winter           1           2  0.62  0.5455  0.94     0.0896      11   \n",
       "\n",
       "        registered  cnt  \n",
       "SEASON                   \n",
       "fall            23   33  \n",
       "spring          13   16  \n",
       "summer          11   13  \n",
       "winter          41   52  "
      ]
     },
     "execution_count": 10,
     "metadata": {},
     "output_type": "execute_result"
    }
   ],
   "source": [
    "# create four separate datasets based on the four seaons\n",
    "season_data=df.groupby('SEASON')\n",
    "season_data.first()"
   ]
  },
  {
   "cell_type": "code",
   "execution_count": 11,
   "metadata": {},
   "outputs": [],
   "source": [
    "spring_data=season_data.get_group('spring')\n",
    "summer_data=season_data.get_group('summer')\n",
    "fall_data=season_data.get_group('fall')\n",
    "winter_data=season_data.get_group('winter')\n"
   ]
  },
  {
   "cell_type": "code",
   "execution_count": 12,
   "metadata": {},
   "outputs": [
    {
     "data": {
      "text/plain": [
       "SEASON\n",
       "fall      236.016237\n",
       "spring    111.114569\n",
       "summer    208.344069\n",
       "winter    198.868856\n",
       "Name: cnt, dtype: float64"
      ]
     },
     "execution_count": 12,
     "metadata": {},
     "output_type": "execute_result"
    }
   ],
   "source": [
    "df.groupby('SEASON')['cnt'].mean()"
   ]
  },
  {
   "cell_type": "markdown",
   "metadata": {},
   "source": [
    "mean of number of bikes is highest in the fall and lowest in spring"
   ]
  },
  {
   "cell_type": "code",
   "execution_count": 13,
   "metadata": {},
   "outputs": [],
   "source": [
    "# lets looks at the number of hours by the hour\n",
    "hr_group=df.groupby('hr')['cnt'].sum()"
   ]
  },
  {
   "cell_type": "code",
   "execution_count": 14,
   "metadata": {},
   "outputs": [
    {
     "data": {
      "text/plain": [
       "hr\n",
       "0      39130\n",
       "1      24164\n",
       "2      16352\n",
       "3       8174\n",
       "4       4428\n",
       "5      14261\n",
       "6      55132\n",
       "7     154171\n",
       "8     261001\n",
       "9     159438\n",
       "10    126257\n",
       "11    151320\n",
       "12    184414\n",
       "13    184919\n",
       "14    175652\n",
       "15    183149\n",
       "16    227748\n",
       "17    336860\n",
       "18    309772\n",
       "19    226789\n",
       "20    164550\n",
       "21    125445\n",
       "22     95612\n",
       "23     63941\n",
       "Name: cnt, dtype: int64"
      ]
     },
     "execution_count": 14,
     "metadata": {},
     "output_type": "execute_result"
    }
   ],
   "source": [
    "hr_group"
   ]
  },
  {
   "cell_type": "code",
   "execution_count": null,
   "metadata": {},
   "outputs": [],
   "source": []
  },
  {
   "cell_type": "code",
   "execution_count": 92,
   "metadata": {},
   "outputs": [
    {
     "data": {
      "text/plain": [
       "Text(0, 0.5, 'Number of riders')"
      ]
     },
     "execution_count": 92,
     "metadata": {},
     "output_type": "execute_result"
    },
    {
     "data": {
      "image/png": "[encoded data removed]",
      "text/plain": [
       "<Figure size 432x288 with 1 Axes>"
      ]
     },
     "metadata": {},
     "output_type": "display_data"
    }
   ],
   "source": [
    "plt.plot(hr_group.index,hr_group)\n",
    "plt.title(\"Numberof riders by hours\")\n",
    "plt.xlabel(\"Twenty four hours\")\n",
    "plt.ylabel(\"Number of riders\")"
   ]
  },
  {
   "cell_type": "code",
   "execution_count": 16,
   "metadata": {},
   "outputs": [],
   "source": [
    "# lets looks at the month of the number of bikes\n",
    "mnth_group=df.groupby('mnth')['cnt'].sum()"
   ]
  },
  {
   "cell_type": "code",
   "execution_count": 17,
   "metadata": {},
   "outputs": [
    {
     "data": {
      "text/plain": [
       "mnth\n",
       "1     134933\n",
       "2     151352\n",
       "3     228920\n",
       "4     269094\n",
       "5     331686\n",
       "6     346342\n",
       "7     344948\n",
       "8     351194\n",
       "9     345991\n",
       "10    322352\n",
       "11    254831\n",
       "12    211036\n",
       "Name: cnt, dtype: int64"
      ]
     },
     "execution_count": 17,
     "metadata": {},
     "output_type": "execute_result"
    }
   ],
   "source": [
    "mnth_group"
   ]
  },
  {
   "cell_type": "code",
   "execution_count": 93,
   "metadata": {},
   "outputs": [
    {
     "data": {
      "text/plain": [
       "Text(0, 0.5, 'Number of riders')"
      ]
     },
     "execution_count": 93,
     "metadata": {},
     "output_type": "execute_result"
    },
    {
     "data": {
      "image/png": "[encoded data removed]",
      "text/plain": [
       "<Figure size 432x288 with 1 Axes>"
      ]
     },
     "metadata": {},
     "output_type": "display_data"
    }
   ],
   "source": [
    "plt.plot(['jan','feb','mar','apr','may','jun','jul','aug','sep','oct','nov','dec'], mnth_group)\n",
    "plt.title(\"Number of riders by months\")\n",
    "plt.xlabel(\"months\")\n",
    "plt.ylabel(\"Number of riders\")"
   ]
  },
  {
   "cell_type": "code",
   "execution_count": null,
   "metadata": {},
   "outputs": [],
   "source": []
  },
  {
   "cell_type": "code",
   "execution_count": 19,
   "metadata": {},
   "outputs": [],
   "source": [
    "# now lets look at the impact of holiday or weekend\n",
    "wkday_group=df.groupby('weekday')['cnt'].sum()"
   ]
  },
  {
   "cell_type": "code",
   "execution_count": 20,
   "metadata": {},
   "outputs": [
    {
     "data": {
      "text/plain": [
       "weekday\n",
       "0    444027\n",
       "1    455503\n",
       "2    469109\n",
       "3    473048\n",
       "4    485395\n",
       "5    487790\n",
       "6    477807\n",
       "Name: cnt, dtype: int64"
      ]
     },
     "execution_count": 20,
     "metadata": {},
     "output_type": "execute_result"
    }
   ],
   "source": [
    "wkday_group"
   ]
  },
  {
   "cell_type": "code",
   "execution_count": 94,
   "metadata": {},
   "outputs": [
    {
     "data": {
      "text/plain": [
       "Text(0, 0.5, 'Number of riders')"
      ]
     },
     "execution_count": 94,
     "metadata": {},
     "output_type": "execute_result"
    },
    {
     "data": {
      "image/png": "[encoded data removed]",
      "text/plain": [
       "<Figure size 432x288 with 1 Axes>"
      ]
     },
     "metadata": {},
     "output_type": "display_data"
    }
   ],
   "source": [
    "plt.plot(['Mon','Tue','Wed','Thu','Fri','Sat','Sun'],wkday_group)\n",
    "plt.title(\"Number of riders by the day of the week\")\n",
    "plt.xlabel(\"Days of the week\")\n",
    "plt.ylabel(\"Number of riders\")"
   ]
  },
  {
   "cell_type": "code",
   "execution_count": 22,
   "metadata": {},
   "outputs": [],
   "source": [
    "# now look at weather situation\n",
    "# now lets look at the impact of holiday or weekend\n",
    "weather_group=df.groupby('weathersit')['cnt'].sum()\n"
   ]
  },
  {
   "cell_type": "code",
   "execution_count": 23,
   "metadata": {},
   "outputs": [
    {
     "data": {
      "text/plain": [
       "weathersit\n",
       "1    2338173\n",
       "2     795952\n",
       "3     158331\n",
       "4        223\n",
       "Name: cnt, dtype: int64"
      ]
     },
     "execution_count": 23,
     "metadata": {},
     "output_type": "execute_result"
    }
   ],
   "source": [
    "weather_group"
   ]
  },
  {
   "cell_type": "code",
   "execution_count": 96,
   "metadata": {},
   "outputs": [
    {
     "data": {
      "text/plain": [
       "Text(0, 0.5, 'Number of riders')"
      ]
     },
     "execution_count": 96,
     "metadata": {},
     "output_type": "execute_result"
    },
    {
     "data": {
      "image/png": "[encoded data removed]",
      "text/plain": [
       "<Figure size 432x288 with 1 Axes>"
      ]
     },
     "metadata": {},
     "output_type": "display_data"
    }
   ],
   "source": [
    "plt.plot(['clear','mist','light_snow_rain', 'heavy rain snow'], weather_group)\n",
    "plt.title(\"Number of riders by weather situations\")\n",
    "plt.xlabel(\"Weather situations\")\n",
    "plt.ylabel(\"Number of riders\")"
   ]
  },
  {
   "cell_type": "code",
   "execution_count": 25,
   "metadata": {},
   "outputs": [],
   "source": [
    "# count casual and registered\n",
    "casual_register=df[['casual','registered']].sum()"
   ]
  },
  {
   "cell_type": "code",
   "execution_count": 26,
   "metadata": {},
   "outputs": [
    {
     "data": {
      "text/plain": [
       "casual         620017\n",
       "registered    2672662\n",
       "dtype: int64"
      ]
     },
     "execution_count": 26,
     "metadata": {},
     "output_type": "execute_result"
    }
   ],
   "source": [
    "casual_register"
   ]
  },
  {
   "cell_type": "code",
   "execution_count": 27,
   "metadata": {},
   "outputs": [
    {
     "data": {
      "text/plain": [
       "pandas.core.series.Series"
      ]
     },
     "execution_count": 27,
     "metadata": {},
     "output_type": "execute_result"
    }
   ],
   "source": [
    "type(casual_register)"
   ]
  },
  {
   "cell_type": "code",
   "execution_count": 28,
   "metadata": {},
   "outputs": [
    {
     "data": {
      "text/plain": [
       "<BarContainer object of 2 artists>"
      ]
     },
     "execution_count": 28,
     "metadata": {},
     "output_type": "execute_result"
    },
    {
     "data": {
      "image/png": "[encoded data removed]",
      "text/plain": [
       "<Figure size 432x288 with 1 Axes>"
      ]
     },
     "metadata": {
      "needs_background": "light"
     },
     "output_type": "display_data"
    }
   ],
   "source": [
    "plt.bar(['casual','registered'],casual_register)"
   ]
  },
  {
   "cell_type": "code",
   "execution_count": null,
   "metadata": {},
   "outputs": [],
   "source": []
  },
  {
   "cell_type": "code",
   "execution_count": 79,
   "metadata": {},
   "outputs": [
    {
     "data": {
      "text/plain": [
       "<seaborn.axisgrid.PairGrid at 0x25dbe33dbe0>"
      ]
     },
     "execution_count": 79,
     "metadata": {},
     "output_type": "execute_result"
    },
    {
     "data": {
      "image/png": "[encoded data removed]",
      "text/plain": [
       "<Figure size 360x360 with 6 Axes>"
      ]
     },
     "metadata": {},
     "output_type": "display_data"
    }
   ],
   "source": [
    "temp=df[['temp','cnt']]\n",
    "sns.pairplot(temp,kind=\"scatter\")"
   ]
  },
  {
   "cell_type": "code",
   "execution_count": null,
   "metadata": {},
   "outputs": [],
   "source": []
  },
  {
   "cell_type": "code",
   "execution_count": 34,
   "metadata": {},
   "outputs": [],
   "source": [
    "spring_data_hr=spring_data.groupby('hr')['cnt'].sum()\n",
    "summer_data_hr=summer_data.groupby('hr')['cnt'].sum()\n",
    "fall_data_hr=fall_data.groupby('hr')['cnt'].sum()\n",
    "winter_data_hr=winter_data.groupby('hr')['cnt'].sum()"
   ]
  },
  {
   "cell_type": "code",
   "execution_count": 35,
   "metadata": {},
   "outputs": [],
   "source": [
    "all_data_hr=pd.DataFrame(list(zip(spring_data_hr,summer_data_hr,fall_data_hr,winter_data_hr)),columns=['Spring','Summer','Fall','Winter'])"
   ]
  },
  {
   "cell_type": "code",
   "execution_count": 36,
   "metadata": {},
   "outputs": [
    {
     "data": {
      "text/html": [
       "<div>\n",
       "<style scoped>\n",
       "    .dataframe tbody tr th:only-of-type {\n",
       "        vertical-align: middle;\n",
       "    }\n",
       "\n",
       "    .dataframe tbody tr th {\n",
       "        vertical-align: top;\n",
       "    }\n",
       "\n",
       "    .dataframe thead th {\n",
       "        text-align: right;\n",
       "    }\n",
       "</style>\n",
       "<table border=\"1\" class=\"dataframe\">\n",
       "  <thead>\n",
       "    <tr style=\"text-align: right;\">\n",
       "      <th></th>\n",
       "      <th>Spring</th>\n",
       "      <th>Summer</th>\n",
       "      <th>Fall</th>\n",
       "      <th>Winter</th>\n",
       "    </tr>\n",
       "  </thead>\n",
       "  <tbody>\n",
       "    <tr>\n",
       "      <th>0</th>\n",
       "      <td>4878</td>\n",
       "      <td>10459</td>\n",
       "      <td>13822</td>\n",
       "      <td>9971</td>\n",
       "    </tr>\n",
       "    <tr>\n",
       "      <th>1</th>\n",
       "      <td>3229</td>\n",
       "      <td>6481</td>\n",
       "      <td>8132</td>\n",
       "      <td>6322</td>\n",
       "    </tr>\n",
       "    <tr>\n",
       "      <th>2</th>\n",
       "      <td>2175</td>\n",
       "      <td>4302</td>\n",
       "      <td>5716</td>\n",
       "      <td>4159</td>\n",
       "    </tr>\n",
       "    <tr>\n",
       "      <th>3</th>\n",
       "      <td>1108</td>\n",
       "      <td>2084</td>\n",
       "      <td>2930</td>\n",
       "      <td>2052</td>\n",
       "    </tr>\n",
       "    <tr>\n",
       "      <th>4</th>\n",
       "      <td>490</td>\n",
       "      <td>1118</td>\n",
       "      <td>1541</td>\n",
       "      <td>1279</td>\n",
       "    </tr>\n",
       "    <tr>\n",
       "      <th>5</th>\n",
       "      <td>1830</td>\n",
       "      <td>3508</td>\n",
       "      <td>4947</td>\n",
       "      <td>3976</td>\n",
       "    </tr>\n",
       "    <tr>\n",
       "      <th>6</th>\n",
       "      <td>7261</td>\n",
       "      <td>14549</td>\n",
       "      <td>18946</td>\n",
       "      <td>14376</td>\n",
       "    </tr>\n",
       "    <tr>\n",
       "      <th>7</th>\n",
       "      <td>20655</td>\n",
       "      <td>40753</td>\n",
       "      <td>52000</td>\n",
       "      <td>40763</td>\n",
       "    </tr>\n",
       "    <tr>\n",
       "      <th>8</th>\n",
       "      <td>42095</td>\n",
       "      <td>69945</td>\n",
       "      <td>79204</td>\n",
       "      <td>69757</td>\n",
       "    </tr>\n",
       "    <tr>\n",
       "      <th>9</th>\n",
       "      <td>26316</td>\n",
       "      <td>43053</td>\n",
       "      <td>47927</td>\n",
       "      <td>42142</td>\n",
       "    </tr>\n",
       "    <tr>\n",
       "      <th>10</th>\n",
       "      <td>17939</td>\n",
       "      <td>34919</td>\n",
       "      <td>40405</td>\n",
       "      <td>32994</td>\n",
       "    </tr>\n",
       "    <tr>\n",
       "      <th>11</th>\n",
       "      <td>21575</td>\n",
       "      <td>42585</td>\n",
       "      <td>47319</td>\n",
       "      <td>39841</td>\n",
       "    </tr>\n",
       "    <tr>\n",
       "      <th>12</th>\n",
       "      <td>27131</td>\n",
       "      <td>51252</td>\n",
       "      <td>56458</td>\n",
       "      <td>49573</td>\n",
       "    </tr>\n",
       "    <tr>\n",
       "      <th>13</th>\n",
       "      <td>28175</td>\n",
       "      <td>52022</td>\n",
       "      <td>55656</td>\n",
       "      <td>49066</td>\n",
       "    </tr>\n",
       "    <tr>\n",
       "      <th>14</th>\n",
       "      <td>26605</td>\n",
       "      <td>48903</td>\n",
       "      <td>53060</td>\n",
       "      <td>47084</td>\n",
       "    </tr>\n",
       "    <tr>\n",
       "      <th>15</th>\n",
       "      <td>28018</td>\n",
       "      <td>51382</td>\n",
       "      <td>54221</td>\n",
       "      <td>49528</td>\n",
       "    </tr>\n",
       "    <tr>\n",
       "      <th>16</th>\n",
       "      <td>32999</td>\n",
       "      <td>63831</td>\n",
       "      <td>69516</td>\n",
       "      <td>61402</td>\n",
       "    </tr>\n",
       "    <tr>\n",
       "      <th>17</th>\n",
       "      <td>47780</td>\n",
       "      <td>95468</td>\n",
       "      <td>107562</td>\n",
       "      <td>86050</td>\n",
       "    </tr>\n",
       "    <tr>\n",
       "      <th>18</th>\n",
       "      <td>43110</td>\n",
       "      <td>88904</td>\n",
       "      <td>102330</td>\n",
       "      <td>75428</td>\n",
       "    </tr>\n",
       "    <tr>\n",
       "      <th>19</th>\n",
       "      <td>29837</td>\n",
       "      <td>65994</td>\n",
       "      <td>78383</td>\n",
       "      <td>52575</td>\n",
       "    </tr>\n",
       "    <tr>\n",
       "      <th>20</th>\n",
       "      <td>21211</td>\n",
       "      <td>47285</td>\n",
       "      <td>58505</td>\n",
       "      <td>37549</td>\n",
       "    </tr>\n",
       "    <tr>\n",
       "      <th>21</th>\n",
       "      <td>16497</td>\n",
       "      <td>35246</td>\n",
       "      <td>45147</td>\n",
       "      <td>28555</td>\n",
       "    </tr>\n",
       "    <tr>\n",
       "      <th>22</th>\n",
       "      <td>12440</td>\n",
       "      <td>26885</td>\n",
       "      <td>34416</td>\n",
       "      <td>21871</td>\n",
       "    </tr>\n",
       "    <tr>\n",
       "      <th>23</th>\n",
       "      <td>7994</td>\n",
       "      <td>17661</td>\n",
       "      <td>22986</td>\n",
       "      <td>15300</td>\n",
       "    </tr>\n",
       "  </tbody>\n",
       "</table>\n",
       "</div>"
      ],
      "text/plain": [
       "    Spring  Summer    Fall  Winter\n",
       "0     4878   10459   13822    9971\n",
       "1     3229    6481    8132    6322\n",
       "2     2175    4302    5716    4159\n",
       "3     1108    2084    2930    2052\n",
       "4      490    1118    1541    1279\n",
       "5     1830    3508    4947    3976\n",
       "6     7261   14549   18946   14376\n",
       "7    20655   40753   52000   40763\n",
       "8    42095   69945   79204   69757\n",
       "9    26316   43053   47927   42142\n",
       "10   17939   34919   40405   32994\n",
       "11   21575   42585   47319   39841\n",
       "12   27131   51252   56458   49573\n",
       "13   28175   52022   55656   49066\n",
       "14   26605   48903   53060   47084\n",
       "15   28018   51382   54221   49528\n",
       "16   32999   63831   69516   61402\n",
       "17   47780   95468  107562   86050\n",
       "18   43110   88904  102330   75428\n",
       "19   29837   65994   78383   52575\n",
       "20   21211   47285   58505   37549\n",
       "21   16497   35246   45147   28555\n",
       "22   12440   26885   34416   21871\n",
       "23    7994   17661   22986   15300"
      ]
     },
     "execution_count": 36,
     "metadata": {},
     "output_type": "execute_result"
    }
   ],
   "source": [
    "all_data_hr"
   ]
  },
  {
   "cell_type": "code",
   "execution_count": 97,
   "metadata": {},
   "outputs": [
    {
     "data": {
      "text/plain": [
       "<matplotlib.axes._subplots.AxesSubplot at 0x25dc0682160>"
      ]
     },
     "execution_count": 97,
     "metadata": {},
     "output_type": "execute_result"
    },
    {
     "data": {
      "image/png": "[encoded data removed]",
      "text/plain": [
       "<Figure size 576x360 with 1 Axes>"
      ]
     },
     "metadata": {},
     "output_type": "display_data"
    }
   ],
   "source": [
    "import numpy as np\n",
    "import pandas as pd\n",
    "import seaborn as sns\n",
    "import matplotlib.pyplot as plt\n",
    "sns.set(style=\"whitegrid\")\n",
    "fig, ax = plt.subplots()\n",
    "fig.set_size_inches(8, 5)\n",
    "plt.title('Riders by Hours for four seasons')\n",
    "plt.xlabel('hours of the day')\n",
    "plt.ylabel('Number of Riders')\n",
    "#g=sns.lineplot(data=all_data_hr, palette=\"tab10\", linewidth=2.5)\n",
    "sns.lineplot(data=all_data_hr, palette=\"tab10\", linewidth=2.5)\n",
    "\n"
   ]
  },
  {
   "cell_type": "code",
   "execution_count": 38,
   "metadata": {},
   "outputs": [],
   "source": [
    "spring_data_mnth=spring_data.groupby('mnth')['cnt'].sum()\n",
    "summer_data_mnth=summer_data.groupby('mnth')['cnt'].sum()\n",
    "fall_data_mnth=fall_data.groupby('mnth')['cnt'].sum()\n",
    "winter_data_mnth=winter_data.groupby('mnth')['cnt'].sum()"
   ]
  },
  {
   "cell_type": "code",
   "execution_count": 39,
   "metadata": {},
   "outputs": [],
   "source": []
  },
  {
   "cell_type": "code",
   "execution_count": 45,
   "metadata": {},
   "outputs": [
    {
     "name": "stdout",
     "output_type": "stream",
     "text": [
      "(8645, 18) (8734, 18)\n"
     ]
    }
   ],
   "source": [
    "# now compare years and seasons\n",
    "year_2011=df[df['yr']==0]\n",
    "year_2012=df[df['yr']==1]\n",
    "print (year_2011.shape, year_2012.shape)"
   ]
  },
  {
   "cell_type": "code",
   "execution_count": 46,
   "metadata": {},
   "outputs": [
    {
     "data": {
      "text/plain": [
       "SEASON\n",
       "fall      419650\n",
       "spring    150000\n",
       "summer    347316\n",
       "winter    326137\n",
       "Name: cnt, dtype: int64"
      ]
     },
     "execution_count": 46,
     "metadata": {},
     "output_type": "execute_result"
    }
   ],
   "source": [
    "year11_gr_season=year_2011.groupby('SEASON')['cnt'].sum()\n",
    "year11_gr_season"
   ]
  },
  {
   "cell_type": "code",
   "execution_count": 47,
   "metadata": {},
   "outputs": [
    {
     "data": {
      "text/plain": [
       "SEASON\n",
       "fall      641479\n",
       "spring    321348\n",
       "summer    571273\n",
       "winter    515476\n",
       "Name: cnt, dtype: int64"
      ]
     },
     "execution_count": 47,
     "metadata": {},
     "output_type": "execute_result"
    }
   ],
   "source": [
    "year12_gr_season=year_2012.groupby('SEASON')['cnt'].sum()\n",
    "year12_gr_season"
   ]
  },
  {
   "cell_type": "code",
   "execution_count": 73,
   "metadata": {},
   "outputs": [
    {
     "data": {
      "image/png": "[encoded data removed]",
      "text/plain": [
       "<Figure size 576x360 with 1 Axes>"
      ]
     },
     "metadata": {},
     "output_type": "display_data"
    }
   ],
   "source": [
    "# create plot\n",
    "import matplotlib as mpl\n",
    "index = np.arange(4)\n",
    "#fig, ax = plt.subplots()\n",
    "plt.figure(figsize=(8,5))\n",
    "#index = np.arange(n_groups)\n",
    "bar_width = 0.35\n",
    "opacity = 0.8\n",
    "\n",
    "fake=['A','B','C','D']\n",
    "first = plt.bar(fake, year11_gr_season, bar_width,\n",
    "alpha=opacity,\n",
    "color='b',\n",
    "label='total riders in 2011')\n",
    "\n",
    "second = plt.bar(index + bar_width, year12_gr_season, bar_width, alpha=opacity,color='r',label='total riders in 2012')\n",
    "#plt.xlabel('\\nBlue indicates total population for each group and \\nred indicates the number of individuals holding stocks from that group\\n')\n",
    "plt.ylabel('Number  of Riders')\n",
    "plt.title('Total riders by each season\\n')\n",
    "plt.xticks(index + bar_width-.2, ('Spring','Summer','Fall','Winter'))\n",
    "plt.legend()\n",
    "plt.tight_layout()\n",
    "\n",
    "ax.yaxis.set_major_formatter(mpl.ticker.StrMethodFormatter('{x:,.0f}'))\n",
    "plt.show()"
   ]
  },
  {
   "cell_type": "code",
   "execution_count": 49,
   "metadata": {},
   "outputs": [
    {
     "data": {
      "text/plain": [
       "casual        247252\n",
       "registered    995851\n",
       "dtype: int64"
      ]
     },
     "execution_count": 49,
     "metadata": {},
     "output_type": "execute_result"
    }
   ],
   "source": [
    "tt=year_2011[['casual','registered']].sum()\n",
    "tt"
   ]
  },
  {
   "cell_type": "code",
   "execution_count": 50,
   "metadata": {},
   "outputs": [
    {
     "data": {
      "text/plain": [
       "casual         372765\n",
       "registered    1676811\n",
       "dtype: int64"
      ]
     },
     "execution_count": 50,
     "metadata": {},
     "output_type": "execute_result"
    }
   ],
   "source": [
    "tt=year_2012[['casual','registered']].sum()\n",
    "tt"
   ]
  },
  {
   "cell_type": "code",
   "execution_count": 51,
   "metadata": {},
   "outputs": [
    {
     "data": {
      "text/plain": [
       "50.763188973193344"
      ]
     },
     "execution_count": 51,
     "metadata": {},
     "output_type": "execute_result"
    }
   ],
   "source": [
    "casual_increase=100*(372765-247252)/247252\n",
    "casual_increase"
   ]
  },
  {
   "cell_type": "code",
   "execution_count": 52,
   "metadata": {},
   "outputs": [
    {
     "data": {
      "text/plain": [
       "40.610420613891485"
      ]
     },
     "execution_count": 52,
     "metadata": {},
     "output_type": "execute_result"
    }
   ],
   "source": [
    "registered_increase=100*(1676811-995851)/1676811\n",
    "registered_increase"
   ]
  },
  {
   "cell_type": "code",
   "execution_count": 53,
   "metadata": {},
   "outputs": [
    {
     "data": {
      "text/plain": [
       "125513"
      ]
     },
     "execution_count": 53,
     "metadata": {},
     "output_type": "execute_result"
    }
   ],
   "source": [
    "actual_casual_increase=372765-247252\n",
    "actual_casual_increase"
   ]
  },
  {
   "cell_type": "code",
   "execution_count": 54,
   "metadata": {},
   "outputs": [
    {
     "data": {
      "text/plain": [
       "680960"
      ]
     },
     "execution_count": 54,
     "metadata": {},
     "output_type": "execute_result"
    }
   ],
   "source": [
    "actual_registered_increase=1676811-995851\n",
    "actual_registered_increase"
   ]
  },
  {
   "cell_type": "code",
   "execution_count": 55,
   "metadata": {},
   "outputs": [],
   "source": [
    "list1=[372765,1676811]\n",
    "list2=[247252,995851]\n",
    "list3=[125513,680960]"
   ]
  },
  {
   "cell_type": "code",
   "execution_count": 56,
   "metadata": {},
   "outputs": [],
   "source": [
    "\n",
    "list1=[247252,995851]\n",
    "list2=[372765,1676811]\n",
    "list3=[125513,680960]"
   ]
  },
  {
   "cell_type": "code",
   "execution_count": null,
   "metadata": {},
   "outputs": [],
   "source": []
  },
  {
   "cell_type": "code",
   "execution_count": 70,
   "metadata": {},
   "outputs": [
    {
     "data": {
      "image/png": "[encoded data removed]",
      "text/plain": [
       "<Figure size 576x360 with 1 Axes>"
      ]
     },
     "metadata": {},
     "output_type": "display_data"
    }
   ],
   "source": [
    "# create plot\n",
    "import matplotlib as mpl\n",
    "index = np.arange(2)\n",
    "#fig, ax = plt.subplots()\n",
    "plt.figure(figsize=(8,5))\n",
    "#index = np.arange(n_groups)\n",
    "bar_width = 0.25\n",
    "opacity = 0.8\n",
    "\n",
    "fake=['A','B']\n",
    "first = plt.bar(fake, list1, bar_width,\n",
    "alpha=opacity,\n",
    "color='b',\n",
    "label='total riders in 2011')\n",
    "\n",
    "second = plt.bar(index + bar_width, list2, bar_width, alpha=opacity,color='r',label='total riders in 2012')\n",
    "\n",
    "third = plt.bar(index + bar_width+bar_width, list3, bar_width, alpha=opacity,color='g',label='total increases from 2011')\n",
    "\n",
    "#plt.xlabel('\\nBlue indicates total riders and \\nred indicates the number of individuals holding stocks from that group\\n')\n",
    "#plt.xlabel('\\nBlue indicates total riders and \\nred indicates the number of individuals holding stocks from that group\\n')\n",
    "plt.ylabel('Number  of Riders')\n",
    "plt.title('Riders by Year\\n')\n",
    "plt.xticks(index + bar_width+.1, ('Casual','Registered'))\n",
    "plt.legend()\n",
    "plt.tight_layout()\n",
    "\n",
    "ax.yaxis.set_major_formatter(mpl.ticker.StrMethodFormatter('{x:,.0f}'))\n",
    "plt.show()"
   ]
  },
  {
   "cell_type": "code",
   "execution_count": null,
   "metadata": {},
   "outputs": [],
   "source": []
  },
  {
   "cell_type": "code",
   "execution_count": null,
   "metadata": {},
   "outputs": [],
   "source": []
  },
  {
   "cell_type": "code",
   "execution_count": 58,
   "metadata": {},
   "outputs": [],
   "source": [
    "# see number of riders by temperature situations - clear, mist, light, heavey\n",
    "df_weather=df.groupby('weathersit')['cnt'].sum()"
   ]
  },
  {
   "cell_type": "code",
   "execution_count": 99,
   "metadata": {},
   "outputs": [
    {
     "data": {
      "text/plain": [
       "Text(0, 0.5, 'Number of riders')"
      ]
     },
     "execution_count": 99,
     "metadata": {},
     "output_type": "execute_result"
    },
    {
     "data": {
      "image/png": "[encoded data removed]",
      "text/plain": [
       "<Figure size 432x288 with 1 Axes>"
      ]
     },
     "metadata": {},
     "output_type": "display_data"
    }
   ],
   "source": [
    "plt.bar(['clear','Mist','Light','Heavy'],df_weather)\n",
    "plt.title(\"Riders by weather situation\")\n",
    "plt.xlabel(\"weather situation\")\n",
    "plt.ylabel(\"Number of riders\")"
   ]
  },
  {
   "cell_type": "code",
   "execution_count": null,
   "metadata": {},
   "outputs": [],
   "source": []
  },
  {
   "cell_type": "code",
   "execution_count": null,
   "metadata": {},
   "outputs": [],
   "source": []
  },
  {
   "cell_type": "markdown",
   "metadata": {},
   "source": [
    "# statistical analysis\n",
    "1. test means of total riders by year - check for normality and/or perform log transformation\n",
    "2. test for means of casul riders and registered riders - check for normality and/or perform log transformation\n"
   ]
  },
  {
   "cell_type": "markdown",
   "metadata": {},
   "source": [
    "# check means of total riders by year"
   ]
  },
  {
   "cell_type": "code",
   "execution_count": 85,
   "metadata": {},
   "outputs": [
    {
     "data": {
      "text/plain": [
       "(array([ 109.,  262.,  412.,  544.,  573.,  776., 1253., 1946., 1872.,\n",
       "         898.]),\n",
       " array([0.        , 0.64785096, 1.29570193, 1.94355289, 2.59140386,\n",
       "        3.23925482, 3.88710579, 4.53495675, 5.18280771, 5.83065868,\n",
       "        6.47850964]),\n",
       " <a list of 10 Patch objects>)"
      ]
     },
     "execution_count": 85,
     "metadata": {},
     "output_type": "execute_result"
    },
    {
     "data": {
      "image/png": "[encoded data removed]",
      "text/plain": [
       "<Figure size 432x288 with 2 Axes>"
      ]
     },
     "metadata": {},
     "output_type": "display_data"
    }
   ],
   "source": [
    "# look at the data before and after log transformation\n",
    "fig, axs = plt.subplots(1,2)\n",
    "fig.suptitle('Before and after log transformation of 2011')\n",
    "axs[0].hist(year_2011['cnt'])\n",
    "axs[1].hist(np.log(year_2011['cnt']))"
   ]
  },
  {
   "cell_type": "code",
   "execution_count": 86,
   "metadata": {},
   "outputs": [
    {
     "data": {
      "text/plain": [
       "(array([  49.,  170.,  402.,  505.,  537.,  675.,  977., 1944., 2289.,\n",
       "        1186.]),\n",
       " array([0.        , 0.68844867, 1.37689733, 2.065346  , 2.75379466,\n",
       "        3.44224333, 4.13069199, 4.81914066, 5.50758932, 6.19603799,\n",
       "        6.88448665]),\n",
       " <a list of 10 Patch objects>)"
      ]
     },
     "execution_count": 86,
     "metadata": {},
     "output_type": "execute_result"
    },
    {
     "data": {
      "image/png": "[encoded data removed]",
      "text/plain": [
       "<Figure size 432x288 with 2 Axes>"
      ]
     },
     "metadata": {},
     "output_type": "display_data"
    }
   ],
   "source": [
    "# look at the data before and after log transformation\n",
    "fig, axs = plt.subplots(1,2)\n",
    "fig.suptitle('Riders efore and after log transformation 2012 ')\n",
    "axs[0].hist(year_2012['cnt'])\n",
    "axs[1].hist(np.log(year_2012['cnt']))"
   ]
  },
  {
   "cell_type": "code",
   "execution_count": 82,
   "metadata": {},
   "outputs": [
    {
     "name": "stdout",
     "output_type": "stream",
     "text": [
      "t = -22.160400484938148\n",
      "p = 2.5301602945983702e-107\n"
     ]
    }
   ],
   "source": [
    "# perform a test now\n",
    "from scipy import stats\n",
    "t2, p2 = stats.ttest_ind(np.log(year_2011['cnt']),np.log(year_2012['cnt']))\n",
    "print(\"t = \" + str(t2))\n",
    "print(\"p = \" + str(p2))\n"
   ]
  },
  {
   "cell_type": "code",
   "execution_count": 83,
   "metadata": {},
   "outputs": [
    {
     "name": "stdout",
     "output_type": "stream",
     "text": [
      "t = -97.81332643791566\n",
      "p = 0.0\n"
     ]
    }
   ],
   "source": [
    "# perform a test now\n",
    "from scipy import stats\n",
    "t2, p2 = stats.ttest_ind(df['casual'],df['registered'])\n",
    "print(\"t = \" + str(t2))\n",
    "print(\"p = \" + str(p2))\n",
    "\n"
   ]
  },
  {
   "cell_type": "markdown",
   "metadata": {},
   "source": [
    "now test any significant differene between casual and register riders"
   ]
  },
  {
   "cell_type": "code",
   "execution_count": null,
   "metadata": {},
   "outputs": [],
   "source": []
  }
 ],
 "metadata": {
  "kernelspec": {
   "display_name": "Python 3",
   "language": "python",
   "name": "python3"
  },
  "language_info": {
   "codemirror_mode": {
    "name": "ipython",
    "version": 3
   },
   "file_extension": ".py",
   "mimetype": "text/x-python",
   "name": "python",
   "nbconvert_exporter": "python",
   "pygments_lexer": "ipython3",
   "version": "3.7.3"
  }
 },
 "nbformat": 4,
 "nbformat_minor": 2
}
